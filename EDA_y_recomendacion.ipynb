{
 "cells": [
  {
   "cell_type": "code",
   "execution_count": 1,
   "metadata": {},
   "outputs": [
    {
     "name": "stdout",
     "output_type": "stream",
     "text": [
      "Hola Mundo\n"
     ]
    }
   ],
   "source": [
    "print('Hola Mundo')"
   ]
  },
  {
   "cell_type": "code",
   "execution_count": 2,
   "metadata": {},
   "outputs": [],
   "source": [
    "import pandas as pd\n",
    "import numpy as np\n",
    "\n",
    "from ydata_profiling import ProfileReport\n",
    "import glob\n",
    "import seaborn as sns\n",
    "\n",
    "import scipy as sp\n",
    "from sklearn.metrics.pairwise import cosine_similarity"
   ]
  },
  {
   "cell_type": "code",
   "execution_count": 3,
   "metadata": {},
   "outputs": [],
   "source": [
    "csv_files = glob.glob('MLOpsReviews/ratings/*.csv')\n",
    "df_list = []\n",
    "for csv_file in csv_files:\n",
    "    df_ratings = pd.read_csv(csv_file)\n",
    "    df_list.append(df_ratings)\n",
    "df_ratings = pd.concat(df_list)"
   ]
  },
  {
   "cell_type": "code",
   "execution_count": 4,
   "metadata": {},
   "outputs": [],
   "source": [
    "df = pd.read_csv('df.csv')"
   ]
  },
  {
   "cell_type": "code",
   "execution_count": 5,
   "metadata": {},
   "outputs": [
    {
     "data": {
      "text/plain": [
       "(11024289, 5)"
      ]
     },
     "execution_count": 5,
     "metadata": {},
     "output_type": "execute_result"
    }
   ],
   "source": [
    "df_ratings.shape"
   ]
  },
  {
   "cell_type": "code",
   "execution_count": null,
   "metadata": {},
   "outputs": [],
   "source": [
    "ProfileReport(df)"
   ]
  },
  {
   "cell_type": "code",
   "execution_count": null,
   "metadata": {},
   "outputs": [],
   "source": [
    "ProfileReport(df_ratings)"
   ]
  },
  {
   "cell_type": "code",
   "execution_count": 5,
   "metadata": {},
   "outputs": [],
   "source": [
    "df_ratings = df_ratings.drop_duplicates()"
   ]
  },
  {
   "cell_type": "code",
   "execution_count": 19,
   "metadata": {},
   "outputs": [
    {
     "data": {
      "text/html": [
       "<div>\n",
       "<style scoped>\n",
       "    .dataframe tbody tr th:only-of-type {\n",
       "        vertical-align: middle;\n",
       "    }\n",
       "\n",
       "    .dataframe tbody tr th {\n",
       "        vertical-align: top;\n",
       "    }\n",
       "\n",
       "    .dataframe thead th {\n",
       "        text-align: right;\n",
       "    }\n",
       "</style>\n",
       "<table border=\"1\" class=\"dataframe\">\n",
       "  <thead>\n",
       "    <tr style=\"text-align: right;\">\n",
       "      <th></th>\n",
       "      <th>userId</th>\n",
       "      <th>rating</th>\n",
       "      <th>timestamp</th>\n",
       "    </tr>\n",
       "  </thead>\n",
       "  <tbody>\n",
       "    <tr>\n",
       "      <th>count</th>\n",
       "      <td>5.999935e+06</td>\n",
       "      <td>5.999935e+06</td>\n",
       "      <td>5.999935e+06</td>\n",
       "    </tr>\n",
       "    <tr>\n",
       "      <th>mean</th>\n",
       "      <td>3.102307e+04</td>\n",
       "      <td>3.527982e+00</td>\n",
       "      <td>1.173530e+09</td>\n",
       "    </tr>\n",
       "    <tr>\n",
       "      <th>std</th>\n",
       "      <td>1.785850e+04</td>\n",
       "      <td>1.058264e+00</td>\n",
       "      <td>2.055337e+08</td>\n",
       "    </tr>\n",
       "    <tr>\n",
       "      <th>min</th>\n",
       "      <td>1.000000e+00</td>\n",
       "      <td>5.000000e-01</td>\n",
       "      <td>7.896520e+08</td>\n",
       "    </tr>\n",
       "    <tr>\n",
       "      <th>25%</th>\n",
       "      <td>1.542400e+04</td>\n",
       "      <td>3.000000e+00</td>\n",
       "      <td>9.921795e+08</td>\n",
       "    </tr>\n",
       "    <tr>\n",
       "      <th>50%</th>\n",
       "      <td>3.133100e+04</td>\n",
       "      <td>3.500000e+00</td>\n",
       "      <td>1.154880e+09</td>\n",
       "    </tr>\n",
       "    <tr>\n",
       "      <th>75%</th>\n",
       "      <td>4.620000e+04</td>\n",
       "      <td>4.000000e+00</td>\n",
       "      <td>1.362442e+09</td>\n",
       "    </tr>\n",
       "    <tr>\n",
       "      <th>max</th>\n",
       "      <td>6.176800e+04</td>\n",
       "      <td>5.000000e+00</td>\n",
       "      <td>1.501827e+09</td>\n",
       "    </tr>\n",
       "  </tbody>\n",
       "</table>\n",
       "</div>"
      ],
      "text/plain": [
       "             userId        rating     timestamp\n",
       "count  5.999935e+06  5.999935e+06  5.999935e+06\n",
       "mean   3.102307e+04  3.527982e+00  1.173530e+09\n",
       "std    1.785850e+04  1.058264e+00  2.055337e+08\n",
       "min    1.000000e+00  5.000000e-01  7.896520e+08\n",
       "25%    1.542400e+04  3.000000e+00  9.921795e+08\n",
       "50%    3.133100e+04  3.500000e+00  1.154880e+09\n",
       "75%    4.620000e+04  4.000000e+00  1.362442e+09\n",
       "max    6.176800e+04  5.000000e+00  1.501827e+09"
      ]
     },
     "execution_count": 19,
     "metadata": {},
     "output_type": "execute_result"
    }
   ],
   "source": [
    "df_ratings.describe()"
   ]
  },
  {
   "cell_type": "code",
   "execution_count": 6,
   "metadata": {},
   "outputs": [],
   "source": [
    "#cambio el nombre de la columna\n",
    "df_ratings = df_ratings.rename(columns={'movieId': 'id'})"
   ]
  },
  {
   "cell_type": "code",
   "execution_count": 7,
   "metadata": {},
   "outputs": [],
   "source": [
    "#uno los dos dataset, y solo me quedo con las columnas que me interesan para mi modelo\n",
    "rated_movie= df_ratings.merge(df,left_on='id', right_on='id')[['userId','rating_x','id','title']]"
   ]
  },
  {
   "cell_type": "code",
   "execution_count": null,
   "metadata": {},
   "outputs": [],
   "source": [
    "rated_movie.sample(10)"
   ]
  },
  {
   "cell_type": "code",
   "execution_count": 8,
   "metadata": {},
   "outputs": [],
   "source": [
    "##aca veo, la película, la cantidad de veces que la puntuaron y el promedio de la ppuntuacion\n",
    "mean_ratings=rated_movie.pivot_table(index='title', values='rating_x', aggfunc=[len, np.mean])"
   ]
  },
  {
   "cell_type": "code",
   "execution_count": null,
   "metadata": {},
   "outputs": [],
   "source": [
    "mean_ratings.head()"
   ]
  },
  {
   "cell_type": "code",
   "execution_count": 9,
   "metadata": {},
   "outputs": [],
   "source": [
    "mean_ratings.columns =['ratings','mean_ratings']"
   ]
  },
  {
   "cell_type": "code",
   "execution_count": null,
   "metadata": {},
   "outputs": [],
   "source": [
    "mean_ratings.head()"
   ]
  },
  {
   "cell_type": "code",
   "execution_count": 13,
   "metadata": {},
   "outputs": [],
   "source": [
    "mean_ratings = pd.DataFrame(mean_ratings)\n",
    "mean_ratings.to_csv(\"promedios.csv\")"
   ]
  },
  {
   "attachments": {},
   "cell_type": "markdown",
   "metadata": {},
   "source": [
    "MODELO PREDICTIVO"
   ]
  },
  {
   "cell_type": "code",
   "execution_count": 24,
   "metadata": {},
   "outputs": [
    {
     "data": {
      "text/html": [
       "<div>\n",
       "<style scoped>\n",
       "    .dataframe tbody tr th:only-of-type {\n",
       "        vertical-align: middle;\n",
       "    }\n",
       "\n",
       "    .dataframe tbody tr th {\n",
       "        vertical-align: top;\n",
       "    }\n",
       "\n",
       "    .dataframe thead th {\n",
       "        text-align: right;\n",
       "    }\n",
       "</style>\n",
       "<table border=\"1\" class=\"dataframe\">\n",
       "  <thead>\n",
       "    <tr style=\"text-align: right;\">\n",
       "      <th></th>\n",
       "      <th>ratings</th>\n",
       "      <th>mean_ratings</th>\n",
       "    </tr>\n",
       "    <tr>\n",
       "      <th>title</th>\n",
       "      <th></th>\n",
       "      <th></th>\n",
       "    </tr>\n",
       "  </thead>\n",
       "  <tbody>\n",
       "    <tr>\n",
       "      <th>thalaivii (telugu)</th>\n",
       "      <td>242</td>\n",
       "      <td>3.822314</td>\n",
       "    </tr>\n",
       "    <tr>\n",
       "      <th>master (tamil)</th>\n",
       "      <td>265</td>\n",
       "      <td>3.771698</td>\n",
       "    </tr>\n",
       "    <tr>\n",
       "      <th>brightheart: let your light shine</th>\n",
       "      <td>273</td>\n",
       "      <td>3.767399</td>\n",
       "    </tr>\n",
       "    <tr>\n",
       "      <th>spirit rider</th>\n",
       "      <td>273</td>\n",
       "      <td>3.761905</td>\n",
       "    </tr>\n",
       "    <tr>\n",
       "      <th>tuhya dharma koncha</th>\n",
       "      <td>283</td>\n",
       "      <td>3.761484</td>\n",
       "    </tr>\n",
       "    <tr>\n",
       "      <th>...</th>\n",
       "      <td>...</td>\n",
       "      <td>...</td>\n",
       "    </tr>\n",
       "    <tr>\n",
       "      <th>roll with me</th>\n",
       "      <td>227</td>\n",
       "      <td>3.288546</td>\n",
       "    </tr>\n",
       "    <tr>\n",
       "      <th>ex machina</th>\n",
       "      <td>216</td>\n",
       "      <td>3.287037</td>\n",
       "    </tr>\n",
       "    <tr>\n",
       "      <th>thomas &amp; friends: the great race (us english, brazilian portuguese, latin america spanish)</th>\n",
       "      <td>253</td>\n",
       "      <td>3.264822</td>\n",
       "    </tr>\n",
       "    <tr>\n",
       "      <th>the road to love</th>\n",
       "      <td>261</td>\n",
       "      <td>3.264368</td>\n",
       "    </tr>\n",
       "    <tr>\n",
       "      <th>k9 adventures - legend of the lost gold</th>\n",
       "      <td>240</td>\n",
       "      <td>3.250000</td>\n",
       "    </tr>\n",
       "  </tbody>\n",
       "</table>\n",
       "<p>22042 rows × 2 columns</p>\n",
       "</div>"
      ],
      "text/plain": [
       "                                                    ratings  mean_ratings\n",
       "title                                                                    \n",
       "thalaivii (telugu)                                      242      3.822314\n",
       "master (tamil)                                          265      3.771698\n",
       "brightheart: let your light shine                       273      3.767399\n",
       "spirit rider                                            273      3.761905\n",
       "tuhya dharma koncha                                     283      3.761484\n",
       "...                                                     ...           ...\n",
       "roll with me                                            227      3.288546\n",
       "ex machina                                              216      3.287037\n",
       "thomas & friends: the great race (us english, b...      253      3.264822\n",
       "the road to love                                        261      3.264368\n",
       "k9 adventures - legend of the lost gold                 240      3.250000\n",
       "\n",
       "[22042 rows x 2 columns]"
      ]
     },
     "execution_count": 24,
     "metadata": {},
     "output_type": "execute_result"
    }
   ],
   "source": [
    "#vamos a ver cuales son las pelis con mejor puntaje\n",
    "mean_ratings.sort_values(by='mean_ratings', ascending=False)"
   ]
  },
  {
   "cell_type": "code",
   "execution_count": 12,
   "metadata": {},
   "outputs": [
    {
     "data": {
      "text/html": [
       "<div>\n",
       "<style scoped>\n",
       "    .dataframe tbody tr th:only-of-type {\n",
       "        vertical-align: middle;\n",
       "    }\n",
       "\n",
       "    .dataframe tbody tr th {\n",
       "        vertical-align: top;\n",
       "    }\n",
       "\n",
       "    .dataframe thead th {\n",
       "        text-align: right;\n",
       "    }\n",
       "</style>\n",
       "<table border=\"1\" class=\"dataframe\">\n",
       "  <thead>\n",
       "    <tr style=\"text-align: right;\">\n",
       "      <th></th>\n",
       "      <th>ratings</th>\n",
       "      <th>mean_ratings</th>\n",
       "    </tr>\n",
       "    <tr>\n",
       "      <th>title</th>\n",
       "      <th></th>\n",
       "      <th></th>\n",
       "    </tr>\n",
       "  </thead>\n",
       "  <tbody>\n",
       "    <tr>\n",
       "      <th>thalaivii (telugu)</th>\n",
       "      <td>461</td>\n",
       "      <td>3.724512</td>\n",
       "    </tr>\n",
       "    <tr>\n",
       "      <th>the man who killed hitler and then the bigfoot</th>\n",
       "      <td>525</td>\n",
       "      <td>3.717143</td>\n",
       "    </tr>\n",
       "    <tr>\n",
       "      <th>space jungle</th>\n",
       "      <td>485</td>\n",
       "      <td>3.709278</td>\n",
       "    </tr>\n",
       "    <tr>\n",
       "      <th>garden of hedon</th>\n",
       "      <td>430</td>\n",
       "      <td>3.708140</td>\n",
       "    </tr>\n",
       "    <tr>\n",
       "      <th>the haunting in connecticut</th>\n",
       "      <td>490</td>\n",
       "      <td>3.703061</td>\n",
       "    </tr>\n",
       "  </tbody>\n",
       "</table>\n",
       "</div>"
      ],
      "text/plain": [
       "                                                ratings  mean_ratings\n",
       "title                                                                \n",
       "thalaivii (telugu)                                  461      3.724512\n",
       "the man who killed hitler and then the bigfoot      525      3.717143\n",
       "space jungle                                        485      3.709278\n",
       "garden of hedon                                     430      3.708140\n",
       "the haunting in connecticut                         490      3.703061"
      ]
     },
     "execution_count": 12,
     "metadata": {},
     "output_type": "execute_result"
    }
   ],
   "source": [
    "#vamos a ver lo mismo, pero filtrando por cantidad de veces que fue puntuada\n",
    "mean_ratings[mean_ratings['ratings'] > 300].sort_values(by='mean_ratings', ascending=False).head(5)\n",
    "\n",
    "#puse la condicion de que ratings sea mayor a 300 para asegurarme que sea una peli muy vista, más popular"
   ]
  },
  {
   "cell_type": "code",
   "execution_count": null,
   "metadata": {},
   "outputs": [],
   "source": [
    "##FILTRADO COLABORATIVO\n",
    "\n",
    "rated_movie.shape"
   ]
  },
  {
   "cell_type": "code",
   "execution_count": null,
   "metadata": {},
   "outputs": [],
   "source": [
    "#voy a trabajar con un dataset que tenga como filas los usuarios y como colummnas las peliculas\n",
    "ratings_pivot=rated_movie.pivot_table(index='userId', columns='title',values='rating_x', aggfunc=np.mean) #los últimos parámetros son en caso de que \n",
    "#un usuario haya votado la misma pelicula más d euna vez\n",
    "\n",
    "#ACA YA TENGO PROBLEMAS, ME TIRA ERROR PORQUE NO TENGO LA MEMORIA RAM SUFICIENTE PARA TIRAR ESTO\n",
    "\n",
    "#PODRIA TOMAR PARA LA MATRIZ DE DISPERSION SOLO 5 MIL REGISTROS, LO CUAL ME PARECE INEFICIENTE, PORQUE NO PUEDO ENTRENAR UN MODELO DE \n",
    "#11 MILLONES DE REGISTROS, CON SOLO 5 MIL. POR LO TANTO, DEJO EL CODIGO DE CÓMO LO SEGURÍA TRABAJANDO ASÍ DE USUARIO A ITEM, \n",
    "#PERO NO LO VOY A EJECUTAR MÁS PORQUE ME VA A EXPLOTAR LA COMPU"
   ]
  },
  {
   "cell_type": "code",
   "execution_count": null,
   "metadata": {},
   "outputs": [],
   "source": [
    "#EN UN MUNDO IDEAL, DONDE MI MÁQUINA PODRÍA EJECUTAR EL CODIGO ANTERIOR, ME HUBIESE QUEDADO UNA MATRIZ DE 11024289X22042\n",
    "#CON MUCHOS VALORES NULOS, POR LO QUE COMPLETARIA ESOS VALORES NULOS CON CEROS:\n",
    "\n",
    "ratings_pivot.fillna(0, inplace=True)"
   ]
  },
  {
   "cell_type": "code",
   "execution_count": null,
   "metadata": {},
   "outputs": [],
   "source": [
    "#LO CONVIERTO A UNA MATRIZ DE DISPERSION:\n",
    "sparse_rating= sp.sparce.csr_matrix(ratings_pivot.values)"
   ]
  },
  {
   "cell_type": "code",
   "execution_count": null,
   "metadata": {},
   "outputs": [],
   "source": [
    "#SOBRE ESTA MATRIZ DISPERSA, AHORA VOY A COMPARAR SIMILITUDES: DISTANCIA SENO Y DISTANCIA COSENO, para agregar puntajes a los valores faltantes\n",
    "user_similarity= cosine_similarity(sparse_rating)  #SIMILITUD ENTRE LOS USUARIOS\n",
    "item_similarity= cosine_similarity(sparse_rating.T) #SIMILITUD ENTRE LAS PELICULAS, USANDO LA MATRIZ TRASPUESTA\n"
   ]
  },
  {
   "cell_type": "code",
   "execution_count": null,
   "metadata": {},
   "outputs": [],
   "source": [
    "user_similarity_df = pd.DataFrame(user_similarity,index=ratings_pivot.index, columns=ratings_pivot.index)\n",
    "item_similarity_df= pd.DataFrame(item_similarity,index=ratings_pivot.columns, columns=ratings_pivot.columns)"
   ]
  },
  {
   "cell_type": "code",
   "execution_count": null,
   "metadata": {},
   "outputs": [],
   "source": [
    "item_similarity_df['mi pelicula'].sort_values(ascending=False)"
   ]
  }
 ],
 "metadata": {
  "kernelspec": {
   "display_name": "Python 3",
   "language": "python",
   "name": "python3"
  },
  "language_info": {
   "codemirror_mode": {
    "name": "ipython",
    "version": 3
   },
   "file_extension": ".py",
   "mimetype": "text/x-python",
   "name": "python",
   "nbconvert_exporter": "python",
   "pygments_lexer": "ipython3",
   "version": "3.11.3"
  },
  "orig_nbformat": 4
 },
 "nbformat": 4,
 "nbformat_minor": 2
}
